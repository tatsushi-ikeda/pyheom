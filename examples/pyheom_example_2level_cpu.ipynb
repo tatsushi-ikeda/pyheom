{
  "nbformat": 4,
  "nbformat_minor": 0,
  "metadata": {
    "colab": {
      "provenance": []
    },
    "kernelspec": {
      "name": "python3",
      "display_name": "Python 3"
    },
    "language_info": {
      "name": "python"
    },
    "gpuClass": "standard",
    "widgets": {
      "application/vnd.jupyter.widget-state+json": {
        "5ac069e85db940da9bddfeed91964673": {
          "model_module": "@jupyter-widgets/controls",
          "model_name": "HBoxModel",
          "model_module_version": "1.5.0",
          "state": {
            "_dom_classes": [],
            "_model_module": "@jupyter-widgets/controls",
            "_model_module_version": "1.5.0",
            "_model_name": "HBoxModel",
            "_view_count": null,
            "_view_module": "@jupyter-widgets/controls",
            "_view_module_version": "1.5.0",
            "_view_name": "HBoxView",
            "box_style": "",
            "children": [
              "IPY_MODEL_1cac2f42f2944914a4509b3b7c082675",
              "IPY_MODEL_d79ab03b9a584c1f9d4cd081529ceee8",
              "IPY_MODEL_1dc0443000df435b97cb4ed32cd74a95"
            ],
            "layout": "IPY_MODEL_c8b69fd8fb6147019220fd9bdada31bc"
          }
        },
        "1cac2f42f2944914a4509b3b7c082675": {
          "model_module": "@jupyter-widgets/controls",
          "model_name": "HTMLModel",
          "model_module_version": "1.5.0",
          "state": {
            "_dom_classes": [],
            "_model_module": "@jupyter-widgets/controls",
            "_model_module_version": "1.5.0",
            "_model_name": "HTMLModel",
            "_view_count": null,
            "_view_module": "@jupyter-widgets/controls",
            "_view_module_version": "1.5.0",
            "_view_name": "HTMLView",
            "description": "",
            "description_tooltip": null,
            "layout": "IPY_MODEL_e9496ea78c6b450399cc66b7e7ee90eb",
            "placeholder": "​",
            "style": "IPY_MODEL_9015cfc2f8fe4a7f95ac329d30597aa0",
            "value": "100%"
          }
        },
        "d79ab03b9a584c1f9d4cd081529ceee8": {
          "model_module": "@jupyter-widgets/controls",
          "model_name": "FloatProgressModel",
          "model_module_version": "1.5.0",
          "state": {
            "_dom_classes": [],
            "_model_module": "@jupyter-widgets/controls",
            "_model_module_version": "1.5.0",
            "_model_name": "FloatProgressModel",
            "_view_count": null,
            "_view_module": "@jupyter-widgets/controls",
            "_view_module_version": "1.5.0",
            "_view_name": "ProgressView",
            "bar_style": "success",
            "description": "",
            "description_tooltip": null,
            "layout": "IPY_MODEL_48132b45f25e4cac964b596e13f6cf58",
            "max": 1000,
            "min": 0,
            "orientation": "horizontal",
            "style": "IPY_MODEL_2511e4041ad742909838557005fd7ef3",
            "value": 1000
          }
        },
        "1dc0443000df435b97cb4ed32cd74a95": {
          "model_module": "@jupyter-widgets/controls",
          "model_name": "HTMLModel",
          "model_module_version": "1.5.0",
          "state": {
            "_dom_classes": [],
            "_model_module": "@jupyter-widgets/controls",
            "_model_module_version": "1.5.0",
            "_model_name": "HTMLModel",
            "_view_count": null,
            "_view_module": "@jupyter-widgets/controls",
            "_view_module_version": "1.5.0",
            "_view_name": "HTMLView",
            "description": "",
            "description_tooltip": null,
            "layout": "IPY_MODEL_6584cff742ea4729bfc3ba78f0c76283",
            "placeholder": "​",
            "style": "IPY_MODEL_b37c87e5217646b988ccb56e7b831411",
            "value": " 1000/1000 [00:23&lt;00:00, 70.04it/s]"
          }
        },
        "c8b69fd8fb6147019220fd9bdada31bc": {
          "model_module": "@jupyter-widgets/base",
          "model_name": "LayoutModel",
          "model_module_version": "1.2.0",
          "state": {
            "_model_module": "@jupyter-widgets/base",
            "_model_module_version": "1.2.0",
            "_model_name": "LayoutModel",
            "_view_count": null,
            "_view_module": "@jupyter-widgets/base",
            "_view_module_version": "1.2.0",
            "_view_name": "LayoutView",
            "align_content": null,
            "align_items": null,
            "align_self": null,
            "border": null,
            "bottom": null,
            "display": null,
            "flex": null,
            "flex_flow": null,
            "grid_area": null,
            "grid_auto_columns": null,
            "grid_auto_flow": null,
            "grid_auto_rows": null,
            "grid_column": null,
            "grid_gap": null,
            "grid_row": null,
            "grid_template_areas": null,
            "grid_template_columns": null,
            "grid_template_rows": null,
            "height": null,
            "justify_content": null,
            "justify_items": null,
            "left": null,
            "margin": null,
            "max_height": null,
            "max_width": null,
            "min_height": null,
            "min_width": null,
            "object_fit": null,
            "object_position": null,
            "order": null,
            "overflow": null,
            "overflow_x": null,
            "overflow_y": null,
            "padding": null,
            "right": null,
            "top": null,
            "visibility": null,
            "width": null
          }
        },
        "e9496ea78c6b450399cc66b7e7ee90eb": {
          "model_module": "@jupyter-widgets/base",
          "model_name": "LayoutModel",
          "model_module_version": "1.2.0",
          "state": {
            "_model_module": "@jupyter-widgets/base",
            "_model_module_version": "1.2.0",
            "_model_name": "LayoutModel",
            "_view_count": null,
            "_view_module": "@jupyter-widgets/base",
            "_view_module_version": "1.2.0",
            "_view_name": "LayoutView",
            "align_content": null,
            "align_items": null,
            "align_self": null,
            "border": null,
            "bottom": null,
            "display": null,
            "flex": null,
            "flex_flow": null,
            "grid_area": null,
            "grid_auto_columns": null,
            "grid_auto_flow": null,
            "grid_auto_rows": null,
            "grid_column": null,
            "grid_gap": null,
            "grid_row": null,
            "grid_template_areas": null,
            "grid_template_columns": null,
            "grid_template_rows": null,
            "height": null,
            "justify_content": null,
            "justify_items": null,
            "left": null,
            "margin": null,
            "max_height": null,
            "max_width": null,
            "min_height": null,
            "min_width": null,
            "object_fit": null,
            "object_position": null,
            "order": null,
            "overflow": null,
            "overflow_x": null,
            "overflow_y": null,
            "padding": null,
            "right": null,
            "top": null,
            "visibility": null,
            "width": null
          }
        },
        "9015cfc2f8fe4a7f95ac329d30597aa0": {
          "model_module": "@jupyter-widgets/controls",
          "model_name": "DescriptionStyleModel",
          "model_module_version": "1.5.0",
          "state": {
            "_model_module": "@jupyter-widgets/controls",
            "_model_module_version": "1.5.0",
            "_model_name": "DescriptionStyleModel",
            "_view_count": null,
            "_view_module": "@jupyter-widgets/base",
            "_view_module_version": "1.2.0",
            "_view_name": "StyleView",
            "description_width": ""
          }
        },
        "48132b45f25e4cac964b596e13f6cf58": {
          "model_module": "@jupyter-widgets/base",
          "model_name": "LayoutModel",
          "model_module_version": "1.2.0",
          "state": {
            "_model_module": "@jupyter-widgets/base",
            "_model_module_version": "1.2.0",
            "_model_name": "LayoutModel",
            "_view_count": null,
            "_view_module": "@jupyter-widgets/base",
            "_view_module_version": "1.2.0",
            "_view_name": "LayoutView",
            "align_content": null,
            "align_items": null,
            "align_self": null,
            "border": null,
            "bottom": null,
            "display": null,
            "flex": null,
            "flex_flow": null,
            "grid_area": null,
            "grid_auto_columns": null,
            "grid_auto_flow": null,
            "grid_auto_rows": null,
            "grid_column": null,
            "grid_gap": null,
            "grid_row": null,
            "grid_template_areas": null,
            "grid_template_columns": null,
            "grid_template_rows": null,
            "height": null,
            "justify_content": null,
            "justify_items": null,
            "left": null,
            "margin": null,
            "max_height": null,
            "max_width": null,
            "min_height": null,
            "min_width": null,
            "object_fit": null,
            "object_position": null,
            "order": null,
            "overflow": null,
            "overflow_x": null,
            "overflow_y": null,
            "padding": null,
            "right": null,
            "top": null,
            "visibility": null,
            "width": null
          }
        },
        "2511e4041ad742909838557005fd7ef3": {
          "model_module": "@jupyter-widgets/controls",
          "model_name": "ProgressStyleModel",
          "model_module_version": "1.5.0",
          "state": {
            "_model_module": "@jupyter-widgets/controls",
            "_model_module_version": "1.5.0",
            "_model_name": "ProgressStyleModel",
            "_view_count": null,
            "_view_module": "@jupyter-widgets/base",
            "_view_module_version": "1.2.0",
            "_view_name": "StyleView",
            "bar_color": null,
            "description_width": ""
          }
        },
        "6584cff742ea4729bfc3ba78f0c76283": {
          "model_module": "@jupyter-widgets/base",
          "model_name": "LayoutModel",
          "model_module_version": "1.2.0",
          "state": {
            "_model_module": "@jupyter-widgets/base",
            "_model_module_version": "1.2.0",
            "_model_name": "LayoutModel",
            "_view_count": null,
            "_view_module": "@jupyter-widgets/base",
            "_view_module_version": "1.2.0",
            "_view_name": "LayoutView",
            "align_content": null,
            "align_items": null,
            "align_self": null,
            "border": null,
            "bottom": null,
            "display": null,
            "flex": null,
            "flex_flow": null,
            "grid_area": null,
            "grid_auto_columns": null,
            "grid_auto_flow": null,
            "grid_auto_rows": null,
            "grid_column": null,
            "grid_gap": null,
            "grid_row": null,
            "grid_template_areas": null,
            "grid_template_columns": null,
            "grid_template_rows": null,
            "height": null,
            "justify_content": null,
            "justify_items": null,
            "left": null,
            "margin": null,
            "max_height": null,
            "max_width": null,
            "min_height": null,
            "min_width": null,
            "object_fit": null,
            "object_position": null,
            "order": null,
            "overflow": null,
            "overflow_x": null,
            "overflow_y": null,
            "padding": null,
            "right": null,
            "top": null,
            "visibility": null,
            "width": null
          }
        },
        "b37c87e5217646b988ccb56e7b831411": {
          "model_module": "@jupyter-widgets/controls",
          "model_name": "DescriptionStyleModel",
          "model_module_version": "1.5.0",
          "state": {
            "_model_module": "@jupyter-widgets/controls",
            "_model_module_version": "1.5.0",
            "_model_name": "DescriptionStyleModel",
            "_view_count": null,
            "_view_module": "@jupyter-widgets/base",
            "_view_module_version": "1.2.0",
            "_view_name": "StyleView",
            "description_width": ""
          }
        },
        "017a30cecbd14f0b9208deedae5b655d": {
          "model_module": "@jupyter-widgets/controls",
          "model_name": "HBoxModel",
          "model_module_version": "1.5.0",
          "state": {
            "_dom_classes": [],
            "_model_module": "@jupyter-widgets/controls",
            "_model_module_version": "1.5.0",
            "_model_name": "HBoxModel",
            "_view_count": null,
            "_view_module": "@jupyter-widgets/controls",
            "_view_module_version": "1.5.0",
            "_view_name": "HBoxView",
            "box_style": "",
            "children": [
              "IPY_MODEL_ae9d5d553e034d7da6fa40e115959c02",
              "IPY_MODEL_5acb6d9eb8804d3d8a117aac387427e8",
              "IPY_MODEL_59b1c2ebda674a7994cb9b131d467f68"
            ],
            "layout": "IPY_MODEL_c97f6b4938a84c97883b9d494116722b"
          }
        },
        "ae9d5d553e034d7da6fa40e115959c02": {
          "model_module": "@jupyter-widgets/controls",
          "model_name": "HTMLModel",
          "model_module_version": "1.5.0",
          "state": {
            "_dom_classes": [],
            "_model_module": "@jupyter-widgets/controls",
            "_model_module_version": "1.5.0",
            "_model_name": "HTMLModel",
            "_view_count": null,
            "_view_module": "@jupyter-widgets/controls",
            "_view_module_version": "1.5.0",
            "_view_name": "HTMLView",
            "description": "",
            "description_tooltip": null,
            "layout": "IPY_MODEL_7508aad1a9a44055b649b9e765124d9c",
            "placeholder": "​",
            "style": "IPY_MODEL_5f3203da8d6f4cd3b4cdbea815da4bde",
            "value": "100%"
          }
        },
        "5acb6d9eb8804d3d8a117aac387427e8": {
          "model_module": "@jupyter-widgets/controls",
          "model_name": "FloatProgressModel",
          "model_module_version": "1.5.0",
          "state": {
            "_dom_classes": [],
            "_model_module": "@jupyter-widgets/controls",
            "_model_module_version": "1.5.0",
            "_model_name": "FloatProgressModel",
            "_view_count": null,
            "_view_module": "@jupyter-widgets/controls",
            "_view_module_version": "1.5.0",
            "_view_name": "ProgressView",
            "bar_style": "success",
            "description": "",
            "description_tooltip": null,
            "layout": "IPY_MODEL_132401a8392f4c9697f0718a937cd741",
            "max": 1000,
            "min": 0,
            "orientation": "horizontal",
            "style": "IPY_MODEL_9ad214c9736d4e7cab38eb0a6ec65192",
            "value": 1000
          }
        },
        "59b1c2ebda674a7994cb9b131d467f68": {
          "model_module": "@jupyter-widgets/controls",
          "model_name": "HTMLModel",
          "model_module_version": "1.5.0",
          "state": {
            "_dom_classes": [],
            "_model_module": "@jupyter-widgets/controls",
            "_model_module_version": "1.5.0",
            "_model_name": "HTMLModel",
            "_view_count": null,
            "_view_module": "@jupyter-widgets/controls",
            "_view_module_version": "1.5.0",
            "_view_name": "HTMLView",
            "description": "",
            "description_tooltip": null,
            "layout": "IPY_MODEL_03f7079e7485412e893dc93853198edf",
            "placeholder": "​",
            "style": "IPY_MODEL_02f8a0aea7434b86b781d9d120b40562",
            "value": " 1000/1000 [00:00&lt;00:00, 21855.69it/s]"
          }
        },
        "c97f6b4938a84c97883b9d494116722b": {
          "model_module": "@jupyter-widgets/base",
          "model_name": "LayoutModel",
          "model_module_version": "1.2.0",
          "state": {
            "_model_module": "@jupyter-widgets/base",
            "_model_module_version": "1.2.0",
            "_model_name": "LayoutModel",
            "_view_count": null,
            "_view_module": "@jupyter-widgets/base",
            "_view_module_version": "1.2.0",
            "_view_name": "LayoutView",
            "align_content": null,
            "align_items": null,
            "align_self": null,
            "border": null,
            "bottom": null,
            "display": null,
            "flex": null,
            "flex_flow": null,
            "grid_area": null,
            "grid_auto_columns": null,
            "grid_auto_flow": null,
            "grid_auto_rows": null,
            "grid_column": null,
            "grid_gap": null,
            "grid_row": null,
            "grid_template_areas": null,
            "grid_template_columns": null,
            "grid_template_rows": null,
            "height": null,
            "justify_content": null,
            "justify_items": null,
            "left": null,
            "margin": null,
            "max_height": null,
            "max_width": null,
            "min_height": null,
            "min_width": null,
            "object_fit": null,
            "object_position": null,
            "order": null,
            "overflow": null,
            "overflow_x": null,
            "overflow_y": null,
            "padding": null,
            "right": null,
            "top": null,
            "visibility": null,
            "width": null
          }
        },
        "7508aad1a9a44055b649b9e765124d9c": {
          "model_module": "@jupyter-widgets/base",
          "model_name": "LayoutModel",
          "model_module_version": "1.2.0",
          "state": {
            "_model_module": "@jupyter-widgets/base",
            "_model_module_version": "1.2.0",
            "_model_name": "LayoutModel",
            "_view_count": null,
            "_view_module": "@jupyter-widgets/base",
            "_view_module_version": "1.2.0",
            "_view_name": "LayoutView",
            "align_content": null,
            "align_items": null,
            "align_self": null,
            "border": null,
            "bottom": null,
            "display": null,
            "flex": null,
            "flex_flow": null,
            "grid_area": null,
            "grid_auto_columns": null,
            "grid_auto_flow": null,
            "grid_auto_rows": null,
            "grid_column": null,
            "grid_gap": null,
            "grid_row": null,
            "grid_template_areas": null,
            "grid_template_columns": null,
            "grid_template_rows": null,
            "height": null,
            "justify_content": null,
            "justify_items": null,
            "left": null,
            "margin": null,
            "max_height": null,
            "max_width": null,
            "min_height": null,
            "min_width": null,
            "object_fit": null,
            "object_position": null,
            "order": null,
            "overflow": null,
            "overflow_x": null,
            "overflow_y": null,
            "padding": null,
            "right": null,
            "top": null,
            "visibility": null,
            "width": null
          }
        },
        "5f3203da8d6f4cd3b4cdbea815da4bde": {
          "model_module": "@jupyter-widgets/controls",
          "model_name": "DescriptionStyleModel",
          "model_module_version": "1.5.0",
          "state": {
            "_model_module": "@jupyter-widgets/controls",
            "_model_module_version": "1.5.0",
            "_model_name": "DescriptionStyleModel",
            "_view_count": null,
            "_view_module": "@jupyter-widgets/base",
            "_view_module_version": "1.2.0",
            "_view_name": "StyleView",
            "description_width": ""
          }
        },
        "132401a8392f4c9697f0718a937cd741": {
          "model_module": "@jupyter-widgets/base",
          "model_name": "LayoutModel",
          "model_module_version": "1.2.0",
          "state": {
            "_model_module": "@jupyter-widgets/base",
            "_model_module_version": "1.2.0",
            "_model_name": "LayoutModel",
            "_view_count": null,
            "_view_module": "@jupyter-widgets/base",
            "_view_module_version": "1.2.0",
            "_view_name": "LayoutView",
            "align_content": null,
            "align_items": null,
            "align_self": null,
            "border": null,
            "bottom": null,
            "display": null,
            "flex": null,
            "flex_flow": null,
            "grid_area": null,
            "grid_auto_columns": null,
            "grid_auto_flow": null,
            "grid_auto_rows": null,
            "grid_column": null,
            "grid_gap": null,
            "grid_row": null,
            "grid_template_areas": null,
            "grid_template_columns": null,
            "grid_template_rows": null,
            "height": null,
            "justify_content": null,
            "justify_items": null,
            "left": null,
            "margin": null,
            "max_height": null,
            "max_width": null,
            "min_height": null,
            "min_width": null,
            "object_fit": null,
            "object_position": null,
            "order": null,
            "overflow": null,
            "overflow_x": null,
            "overflow_y": null,
            "padding": null,
            "right": null,
            "top": null,
            "visibility": null,
            "width": null
          }
        },
        "9ad214c9736d4e7cab38eb0a6ec65192": {
          "model_module": "@jupyter-widgets/controls",
          "model_name": "ProgressStyleModel",
          "model_module_version": "1.5.0",
          "state": {
            "_model_module": "@jupyter-widgets/controls",
            "_model_module_version": "1.5.0",
            "_model_name": "ProgressStyleModel",
            "_view_count": null,
            "_view_module": "@jupyter-widgets/base",
            "_view_module_version": "1.2.0",
            "_view_name": "StyleView",
            "bar_color": null,
            "description_width": ""
          }
        },
        "03f7079e7485412e893dc93853198edf": {
          "model_module": "@jupyter-widgets/base",
          "model_name": "LayoutModel",
          "model_module_version": "1.2.0",
          "state": {
            "_model_module": "@jupyter-widgets/base",
            "_model_module_version": "1.2.0",
            "_model_name": "LayoutModel",
            "_view_count": null,
            "_view_module": "@jupyter-widgets/base",
            "_view_module_version": "1.2.0",
            "_view_name": "LayoutView",
            "align_content": null,
            "align_items": null,
            "align_self": null,
            "border": null,
            "bottom": null,
            "display": null,
            "flex": null,
            "flex_flow": null,
            "grid_area": null,
            "grid_auto_columns": null,
            "grid_auto_flow": null,
            "grid_auto_rows": null,
            "grid_column": null,
            "grid_gap": null,
            "grid_row": null,
            "grid_template_areas": null,
            "grid_template_columns": null,
            "grid_template_rows": null,
            "height": null,
            "justify_content": null,
            "justify_items": null,
            "left": null,
            "margin": null,
            "max_height": null,
            "max_width": null,
            "min_height": null,
            "min_width": null,
            "object_fit": null,
            "object_position": null,
            "order": null,
            "overflow": null,
            "overflow_x": null,
            "overflow_y": null,
            "padding": null,
            "right": null,
            "top": null,
            "visibility": null,
            "width": null
          }
        },
        "02f8a0aea7434b86b781d9d120b40562": {
          "model_module": "@jupyter-widgets/controls",
          "model_name": "DescriptionStyleModel",
          "model_module_version": "1.5.0",
          "state": {
            "_model_module": "@jupyter-widgets/controls",
            "_model_module_version": "1.5.0",
            "_model_name": "DescriptionStyleModel",
            "_view_count": null,
            "_view_module": "@jupyter-widgets/base",
            "_view_module_version": "1.2.0",
            "_view_name": "StyleView",
            "description_width": ""
          }
        }
      }
    }
  },
  "cells": [
    {
      "cell_type": "code",
      "execution_count": 1,
      "metadata": {
        "colab": {
          "base_uri": "https://localhost:8080/"
        },
        "id": "5lvt7IS0CyCY",
        "outputId": "e41d4054-1b05-4563-a241-412646a70cb7"
      },
      "outputs": [
        {
          "output_type": "stream",
          "name": "stdout",
          "text": [
            "Using pip 22.0.4 from /usr/local/lib/python3.8/dist-packages/pip (python 3.8)\n",
            "Looking in indexes: https://pypi.org/simple, https://us-python.pkg.dev/colab-wheels/public/simple/\n",
            "Collecting git+https://github.com/tatsushi-ikeda/pyheom.git@master\n",
            "  Cloning https://github.com/tatsushi-ikeda/pyheom.git (to revision master) to /tmp/pip-req-build-v4k2hnw7\n",
            "  Running command git version\n",
            "  git version 2.25.1\n",
            "  Running command git clone --filter=blob:none https://github.com/tatsushi-ikeda/pyheom.git /tmp/pip-req-build-v4k2hnw7\n",
            "  Cloning into '/tmp/pip-req-build-v4k2hnw7'...\n",
            "  Running command git show-ref master\n",
            "  9b084f3d8dc4edffb97d8d961bd5038f3aead919 refs/heads/master\n",
            "  9b084f3d8dc4edffb97d8d961bd5038f3aead919 refs/remotes/origin/master\n",
            "  Running command git symbolic-ref -q HEAD\n",
            "  refs/heads/master\n",
            "  Resolved https://github.com/tatsushi-ikeda/pyheom.git to commit 9b084f3d8dc4edffb97d8d961bd5038f3aead919\n",
            "  Running command git submodule update --init --recursive -q\n",
            "  Running command python setup.py egg_info\n",
            "  running egg_info\n",
            "  creating /tmp/pip-pip-egg-info-w4g0q1kl/pyheom.egg-info\n",
            "  writing /tmp/pip-pip-egg-info-w4g0q1kl/pyheom.egg-info/PKG-INFO\n",
            "  writing dependency_links to /tmp/pip-pip-egg-info-w4g0q1kl/pyheom.egg-info/dependency_links.txt\n",
            "  writing requirements to /tmp/pip-pip-egg-info-w4g0q1kl/pyheom.egg-info/requires.txt\n",
            "  writing top-level names to /tmp/pip-pip-egg-info-w4g0q1kl/pyheom.egg-info/top_level.txt\n",
            "  writing manifest file '/tmp/pip-pip-egg-info-w4g0q1kl/pyheom.egg-info/SOURCES.txt'\n",
            "  adding license file 'LICENSE.txt'\n",
            "  writing manifest file '/tmp/pip-pip-egg-info-w4g0q1kl/pyheom.egg-info/SOURCES.txt'\n",
            "  Preparing metadata (setup.py) ... \u001b[?25l\u001b[?25hdone\n",
            "Requirement already satisfied: numpy in /usr/local/lib/python3.8/dist-packages (from pyheom==1.0.0a2) (1.21.6)\n",
            "Requirement already satisfied: scipy in /usr/local/lib/python3.8/dist-packages (from pyheom==1.0.0a2) (1.7.3)\n",
            "Requirement already satisfied: jinja2 in /usr/local/lib/python3.8/dist-packages (from pyheom==1.0.0a2) (2.11.3)\n",
            "Requirement already satisfied: MarkupSafe>=0.23 in /usr/local/lib/python3.8/dist-packages (from jinja2->pyheom==1.0.0a2) (2.0.1)\n"
          ]
        }
      ],
      "source": [
        "! CMAKE_ARGS=\"-DLIBHEOM_ENABLE_CUDA=OFF -DCMAKE_VERBOSE_MAKEFILE=ON\" pip install git+https://github.com/tatsushi-ikeda/pyheom.git@master -v"
      ]
    },
    {
      "cell_type": "code",
      "source": [
        "import numpy as np\n",
        "import scipy as sp\n",
        "import scipy.sparse\n",
        "\n",
        "from sys import stdout, stderr\n",
        "import time\n",
        "\n",
        "import pyheom\n",
        "from pyheom import heom_solver, redfield_solver, noise_decomposition, drude, unit\n",
        "pyheom.units['energy'] = unit.wavenumber\n",
        "pyheom.units['time']   = unit.femtosecond\n",
        "from tqdm.auto import tqdm\n",
        "\n",
        "dtype           = np.complex128\n",
        "\n",
        "epsilon_1 = 100.0\n",
        "epsilon_2 = 0.0\n",
        "J_12      = 100.0\n",
        "gamma     = 53.08\n",
        "beta      = 1/208.51\n",
        "lambda_c  = J_12/5.0\n",
        "\n",
        "callback_interval = 1\n",
        "count             = 1000\n",
        "t_list            = np.arange(0, count, callback_interval)\n",
        "solver_params    = dict(\n",
        "    dt = 5e-2,\n",
        "    # atol=1e-6, rtol=1e-3\n",
        ")\n",
        "# \n",
        "\n",
        "J_1 = drude(eta = 2*lambda_c/gamma, gamma_c = gamma)\n",
        "J_2 = drude(eta = 2*lambda_c/gamma, gamma_c = gamma)\n",
        "corr_dict_1 = noise_decomposition(\n",
        "    J_1,\n",
        "    T = 1/beta,\n",
        "    type_ltc = 'none'\n",
        ")\n",
        "corr_dict_2 = noise_decomposition(\n",
        "    J_2,\n",
        "    T = 1/beta,\n",
        "    type_ltc = 'none'\n",
        ")\n",
        "\n",
        "n_level = 2\n",
        "depth = 50\n",
        "\n",
        "H = np.array([[epsilon_1+lambda_c, J_12],\n",
        "              [J_12, epsilon_2+lambda_c]],\n",
        "             dtype=dtype)\n",
        "\n",
        "V_1 = np.array([[1, 0],\n",
        "                [0, 0]],\n",
        "             dtype=dtype)\n",
        "\n",
        "V_2 = np.array([[0, 0],\n",
        "                [0, 1]],\n",
        "             dtype=dtype)\n"
      ],
      "metadata": {
        "id": "g8NYq_4a3Cqn"
      },
      "execution_count": 2,
      "outputs": []
    },
    {
      "cell_type": "code",
      "source": [
        "print(corr_dict_1)\n",
        "# Symmetrized correlation function : sigma.T@S@exp(-gamma*t)@phi_0 + s_delta*2*delta(t)\n",
        "# Anti-symmetrized correlation function : sigma.T@A@exp(-gamma*t)@phi_0\n",
        "# If you want to use custom correlation functions, specify the above parameters directly.\n",
        "# Because gamma, S, and A are matrices and phi_0 and sigma are vectors, sum of exponential functions (diagonal gamma) and non-exponential funcitons (non-diagonal gamma) can be written in the above format."
      ],
      "metadata": {
        "colab": {
          "base_uri": "https://localhost:8080/"
        },
        "id": "E6GLBAi4ET2K",
        "outputId": "ff6804fc-1e3d-46ee-c238-77d73f36916c"
      },
      "execution_count": 3,
      "outputs": [
        {
          "output_type": "stream",
          "name": "stdout",
          "text": [
            "{'gamma': <1x1 sparse matrix of type '<class 'numpy.complex128'>'\n",
            "\twith 1 stored elements in List of Lists format>, 'sigma': array([1.+0.j]), 'phi_0': array([1.+0.j]), 'S': <1x1 sparse matrix of type '<class 'numpy.complex128'>'\n",
            "\twith 1 stored elements in List of Lists format>, 's_delta': 0.0, 'A': <1x1 sparse matrix of type '<class 'numpy.complex128'>'\n",
            "\twith 1 stored elements in List of Lists format>}\n"
          ]
        }
      ]
    },
    {
      "cell_type": "code",
      "source": [
        "space           = 'ado'       # 'hilbert', 'liouville'\n",
        "format          = 'sparse'    # 'dense'\n",
        "engine          = 'eigen'     # 'cuda', 'mkl'\n",
        "solver          = 'lsrk4'\n",
        "order_liouville = 'row_major' # 'col_major'\n",
        "space           = 'ado'\n",
        "# The above configurations strongly affect the numerical performance of the computation.\n",
        "# The optimal choice depends on the sizes of the system and hierarchy space.\n",
        "\n",
        "qme = heom_solver(H, [dict(V=V_1, **corr_dict_1), dict(V=V_2, **corr_dict_2)],\n",
        "                  space=space, format=format, engine=engine,\n",
        "                  order_liouville=order_liouville,\n",
        "                  solver=solver,\n",
        "                  engine_args=dict(),\n",
        "                  depth = depth)\n",
        "\n",
        "n_storage = qme.storage_size()\n",
        "\n",
        "rho = np.zeros((n_storage,n_level,n_level), dtype=dtype)\n",
        "rho_0 = rho[0,:,:]\n",
        "rho_0[0,0] = 1\n",
        "\n",
        "pop_save_heom = np.zeros((t_list.shape[0],))\n",
        "count    = 0\n",
        "\n",
        "with tqdm(total=t_list.shape[0]) as bar:\n",
        "    def callback(t):\n",
        "        global count\n",
        "        bar.update(1)\n",
        "        pop_save_heom[count] = rho_0[0,0].real\n",
        "        count += 1\n",
        "    begin = time.time()\n",
        "    qme.solve(rho, t_list, callback=callback, **solver_params)\n",
        "    end   = time.time()\n",
        "print('elapsed:', end - begin, file=stderr)\n",
        "del qme"
      ],
      "metadata": {
        "id": "mk70vMXqEAvm",
        "colab": {
          "base_uri": "https://localhost:8080/",
          "height": 67,
          "referenced_widgets": [
            "5ac069e85db940da9bddfeed91964673",
            "1cac2f42f2944914a4509b3b7c082675",
            "d79ab03b9a584c1f9d4cd081529ceee8",
            "1dc0443000df435b97cb4ed32cd74a95",
            "c8b69fd8fb6147019220fd9bdada31bc",
            "e9496ea78c6b450399cc66b7e7ee90eb",
            "9015cfc2f8fe4a7f95ac329d30597aa0",
            "48132b45f25e4cac964b596e13f6cf58",
            "2511e4041ad742909838557005fd7ef3",
            "6584cff742ea4729bfc3ba78f0c76283",
            "b37c87e5217646b988ccb56e7b831411"
          ]
        },
        "outputId": "a547169a-6891-49ff-d7c9-2334220b13db"
      },
      "execution_count": 4,
      "outputs": [
        {
          "output_type": "display_data",
          "data": {
            "text/plain": [
              "  0%|          | 0/1000 [00:00<?, ?it/s]"
            ],
            "application/vnd.jupyter.widget-view+json": {
              "version_major": 2,
              "version_minor": 0,
              "model_id": "5ac069e85db940da9bddfeed91964673"
            }
          },
          "metadata": {}
        },
        {
          "output_type": "stream",
          "name": "stderr",
          "text": [
            "elapsed: 23.122908353805542\n"
          ]
        }
      ]
    },
    {
      "cell_type": "code",
      "source": [
        "space='liouville'\n",
        "qme = redfield_solver(H, [dict(V=V_1, **corr_dict_1), dict(V=V_2, **corr_dict_2)],\n",
        "                      space=space, format=format, engine=engine,\n",
        "                      order_liouville=order_liouville,\n",
        "                      solver=solver,\n",
        "                      engine_args=dict())\n",
        "\n",
        "n_storage = qme.storage_size()\n",
        "\n",
        "rho = np.zeros((n_storage,n_level,n_level), dtype=dtype)\n",
        "rho_0 = rho[0,:,:]\n",
        "rho_0[0,0] = 1\n",
        "\n",
        "pop_save_rf = np.zeros((t_list.shape[0],))\n",
        "count    = 0\n",
        "\n",
        "with tqdm(total=t_list.shape[0]) as bar:\n",
        "    def callback(t):\n",
        "        global count\n",
        "        bar.update(1)\n",
        "        pop_save_rf[count] = rho_0[0,0].real\n",
        "        count += 1\n",
        "    begin = time.time()\n",
        "    qme.solve(rho, t_list, callback=callback, **solver_params)\n",
        "    end   = time.time()\n",
        "print('elapsed:', end - begin, file=stderr)\n",
        "del qme"
      ],
      "metadata": {
        "colab": {
          "base_uri": "https://localhost:8080/",
          "height": 67,
          "referenced_widgets": [
            "017a30cecbd14f0b9208deedae5b655d",
            "ae9d5d553e034d7da6fa40e115959c02",
            "5acb6d9eb8804d3d8a117aac387427e8",
            "59b1c2ebda674a7994cb9b131d467f68",
            "c97f6b4938a84c97883b9d494116722b",
            "7508aad1a9a44055b649b9e765124d9c",
            "5f3203da8d6f4cd3b4cdbea815da4bde",
            "132401a8392f4c9697f0718a937cd741",
            "9ad214c9736d4e7cab38eb0a6ec65192",
            "03f7079e7485412e893dc93853198edf",
            "02f8a0aea7434b86b781d9d120b40562"
          ]
        },
        "id": "EkctGnOCvjvR",
        "outputId": "374f18fe-e308-45d3-967a-311245340d2b"
      },
      "execution_count": 5,
      "outputs": [
        {
          "output_type": "display_data",
          "data": {
            "text/plain": [
              "  0%|          | 0/1000 [00:00<?, ?it/s]"
            ],
            "application/vnd.jupyter.widget-view+json": {
              "version_major": 2,
              "version_minor": 0,
              "model_id": "017a30cecbd14f0b9208deedae5b655d"
            }
          },
          "metadata": {}
        },
        {
          "output_type": "stream",
          "name": "stderr",
          "text": [
            "elapsed: 0.03078460693359375\n"
          ]
        }
      ]
    },
    {
      "cell_type": "code",
      "source": [
        "import matplotlib.pyplot as plt\n",
        "fig = plt.figure(figsize=(6, 4))\n",
        "ax = fig.add_subplot(111, \n",
        "                     xlabel='time / fs', \n",
        "                     ylabel='population')\n",
        "ax.plot(t_list, pop_save_heom)\n",
        "ax.plot(t_list, pop_save_rf)"
      ],
      "metadata": {
        "colab": {
          "base_uri": "https://localhost:8080/",
          "height": 297
        },
        "id": "oQCDwnSmJvqD",
        "outputId": "823271d1-4673-4d48-88be-6bb0a059dd98"
      },
      "execution_count": 6,
      "outputs": [
        {
          "output_type": "execute_result",
          "data": {
            "text/plain": [
              "[<matplotlib.lines.Line2D at 0x7efd9a55dc70>]"
            ]
          },
          "metadata": {},
          "execution_count": 6
        },
        {
          "output_type": "display_data",
          "data": {
            "text/plain": [
              "<Figure size 432x288 with 1 Axes>"
            ],
            "image/png": "[encoded data removed]"
          },
          "metadata": {
            "needs_background": "light"
          }
        }
      ]
    }
  ]
}